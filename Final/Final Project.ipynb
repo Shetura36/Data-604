{
 "cells": [
  {
   "cell_type": "markdown",
   "metadata": {},
   "source": [
    "## Data 604 - Final Project\n",
    "\n",
    "\n",
    "S. Tinapunan\n",
    "\n",
    "---\n",
    "\n",
    "## Problem Description\n",
    "\n",
    "I help support a center that allows guests to reserve a research station through throuhg several kiosks. The reservation kiosk schedules the next available station and prints a ticket with the station number, start time, and confirmation number. The confirmation number is used to access the research station. Sometimes, the kiosk malfunctions and generates tickets with no confirmation number. As a result, guests are not able to access the assigned research station and will require staff assistance.\n",
    "\n",
    "There are 10-15 kiosk stations on the floor that could be active at any time. When a guest receives a defective reservation ticket, they request for assistance. Assisting guests with this issue could be time consuming as staff may need to refund and manually reprocess the reservation request. Also, staff usually has to restart kiosk that malfunctioned, which usually resolves the issue for a while until it malfunctions again. This intervention minimizes the number of defective tickets. When additional staff is not anticipated, this can cause strain on the research assistants on the floor who have to assist guests with their research.\n",
    "\n",
    "In flux of guests at the center tends to be highest around mid year during the summer months when tourists from all over the world visit.\n",
    "\n",
    "---\n",
    "\n",
    "\n",
    "## Staffing Demands\n",
    "\n",
    "\n",
    "The center hires full-time research specialists to attend to guests on the research floor. For this exercise, full-time staff has capacity to manage 150 guests per day. \n",
    "\n",
    "Defective reservation tickets do not happen often, but when it does happen and guests complain. Management has to ensure that at least one staff is available on the floor who knows how to process refunds, create complimentary reservations, and understand basic troubleshooting protocols for resolving malfunctioning kiosks before calling IT. \n",
    "\n",
    "The goal of this simulation exercise is to provide management recommendations on which months they should consider hiring seasonal staff and which months the center should prioritize designatating staff to manage defective reservation tickets.\n",
    "\n",
    "---\n",
    "\n",
    "## Data\n",
    "\n",
    "Research station reservation data from 2018 to 2019 is used to set parameters used for the simulation. \n",
    "\n",
    "Data provides (1) number of reservations each day and (2) the number of defective reservations each day.\n",
    "\n",
    "----\n",
    "\n",
    "## Flow of Process\n",
    "\n",
    "Below describes the flow of the simulation and recommendation output. \n",
    "\n",
    "\n",
    "<img src=\"flowchart.png\">,\n",
    "\n"
   ]
  },
  {
   "cell_type": "code",
   "execution_count": 85,
   "metadata": {},
   "outputs": [],
   "source": [
    "import pandas as pd\n",
    "import matplotlib.pyplot as plt\n",
    "import numpy as np\n",
    "%matplotlib inline\n",
    "from modsim import *"
   ]
  },
  {
   "cell_type": "markdown",
   "metadata": {},
   "source": [
    "### Read Data"
   ]
  },
  {
   "cell_type": "code",
   "execution_count": 2,
   "metadata": {},
   "outputs": [],
   "source": [
    "data = pd.read_csv(\"reservation_data_2018-2019.csv\")"
   ]
  },
  {
   "cell_type": "markdown",
   "metadata": {},
   "source": [
    "Below is preview of the reservation data."
   ]
  },
  {
   "cell_type": "code",
   "execution_count": 3,
   "metadata": {},
   "outputs": [
    {
     "data": {
      "text/html": [
       "<div>\n",
       "<style scoped>\n",
       "    .dataframe tbody tr th:only-of-type {\n",
       "        vertical-align: middle;\n",
       "    }\n",
       "\n",
       "    .dataframe tbody tr th {\n",
       "        vertical-align: top;\n",
       "    }\n",
       "\n",
       "    .dataframe thead th {\n",
       "        text-align: right;\n",
       "    }\n",
       "</style>\n",
       "<table border=\"1\" class=\"dataframe\">\n",
       "  <thead>\n",
       "    <tr style=\"text-align: right;\">\n",
       "      <th></th>\n",
       "      <th>date</th>\n",
       "      <th>reservation count</th>\n",
       "      <th>defects</th>\n",
       "      <th>year</th>\n",
       "      <th>month</th>\n",
       "      <th>day</th>\n",
       "    </tr>\n",
       "  </thead>\n",
       "  <tbody>\n",
       "    <tr>\n",
       "      <th>1</th>\n",
       "      <td>1/2/2018</td>\n",
       "      <td>73</td>\n",
       "      <td>0</td>\n",
       "      <td>2018</td>\n",
       "      <td>Jan</td>\n",
       "      <td>2</td>\n",
       "    </tr>\n",
       "    <tr>\n",
       "      <th>2</th>\n",
       "      <td>1/3/2018</td>\n",
       "      <td>85</td>\n",
       "      <td>0</td>\n",
       "      <td>2018</td>\n",
       "      <td>Jan</td>\n",
       "      <td>3</td>\n",
       "    </tr>\n",
       "    <tr>\n",
       "      <th>3</th>\n",
       "      <td>1/4/2018</td>\n",
       "      <td>1</td>\n",
       "      <td>0</td>\n",
       "      <td>2018</td>\n",
       "      <td>Jan</td>\n",
       "      <td>4</td>\n",
       "    </tr>\n",
       "    <tr>\n",
       "      <th>4</th>\n",
       "      <td>1/5/2018</td>\n",
       "      <td>32</td>\n",
       "      <td>0</td>\n",
       "      <td>2018</td>\n",
       "      <td>Jan</td>\n",
       "      <td>5</td>\n",
       "    </tr>\n",
       "    <tr>\n",
       "      <th>5</th>\n",
       "      <td>1/6/2018</td>\n",
       "      <td>53</td>\n",
       "      <td>0</td>\n",
       "      <td>2018</td>\n",
       "      <td>Jan</td>\n",
       "      <td>6</td>\n",
       "    </tr>\n",
       "    <tr>\n",
       "      <th>6</th>\n",
       "      <td>1/7/2018</td>\n",
       "      <td>47</td>\n",
       "      <td>0</td>\n",
       "      <td>2018</td>\n",
       "      <td>Jan</td>\n",
       "      <td>7</td>\n",
       "    </tr>\n",
       "    <tr>\n",
       "      <th>7</th>\n",
       "      <td>1/8/2018</td>\n",
       "      <td>39</td>\n",
       "      <td>2</td>\n",
       "      <td>2018</td>\n",
       "      <td>Jan</td>\n",
       "      <td>8</td>\n",
       "    </tr>\n",
       "    <tr>\n",
       "      <th>8</th>\n",
       "      <td>1/9/2018</td>\n",
       "      <td>42</td>\n",
       "      <td>2</td>\n",
       "      <td>2018</td>\n",
       "      <td>Jan</td>\n",
       "      <td>9</td>\n",
       "    </tr>\n",
       "    <tr>\n",
       "      <th>9</th>\n",
       "      <td>1/10/2018</td>\n",
       "      <td>35</td>\n",
       "      <td>0</td>\n",
       "      <td>2018</td>\n",
       "      <td>Jan</td>\n",
       "      <td>10</td>\n",
       "    </tr>\n",
       "    <tr>\n",
       "      <th>10</th>\n",
       "      <td>1/11/2018</td>\n",
       "      <td>40</td>\n",
       "      <td>0</td>\n",
       "      <td>2018</td>\n",
       "      <td>Jan</td>\n",
       "      <td>11</td>\n",
       "    </tr>\n",
       "  </tbody>\n",
       "</table>\n",
       "</div>"
      ],
      "text/plain": [
       "         date  reservation count  defects  year month  day\n",
       "1    1/2/2018                 73        0  2018   Jan    2\n",
       "2    1/3/2018                 85        0  2018   Jan    3\n",
       "3    1/4/2018                  1        0  2018   Jan    4\n",
       "4    1/5/2018                 32        0  2018   Jan    5\n",
       "5    1/6/2018                 53        0  2018   Jan    6\n",
       "6    1/7/2018                 47        0  2018   Jan    7\n",
       "7    1/8/2018                 39        2  2018   Jan    8\n",
       "8    1/9/2018                 42        2  2018   Jan    9\n",
       "9   1/10/2018                 35        0  2018   Jan   10\n",
       "10  1/11/2018                 40        0  2018   Jan   11"
      ]
     },
     "execution_count": 3,
     "metadata": {},
     "output_type": "execute_result"
    }
   ],
   "source": [
    "data[1:11]"
   ]
  },
  {
   "cell_type": "code",
   "execution_count": 4,
   "metadata": {},
   "outputs": [],
   "source": [
    "is_2018 = data['year']==2018\n",
    "is_2019 = data['year']==2019"
   ]
  },
  {
   "cell_type": "markdown",
   "metadata": {},
   "source": [
    "### 2018 and 2019 Plots of Daily Reservations and Defects\n",
    "\n",
    "Below is plot of 2018 and 2019 daily counts of reservations and defects. As you can see, the overall shape of the plot are very similar. Number of reservations peak around mid year around the summer months when tourists tend to visit the center.  "
   ]
  },
  {
   "cell_type": "code",
   "execution_count": 5,
   "metadata": {},
   "outputs": [
    {
     "data": {
      "text/plain": [
       "<matplotlib.axes._subplots.AxesSubplot at 0x1c74fc35160>"
      ]
     },
     "execution_count": 5,
     "metadata": {},
     "output_type": "execute_result"
    },
    {
     "data": {
      "image/png": "[encoded data removed]",
      "text/plain": [
       "<Figure size 720x360 with 1 Axes>"
      ]
     },
     "metadata": {},
     "output_type": "display_data"
    }
   ],
   "source": [
    "#2018 daily reservation and defects from Jan 1st to Dec 31st\n",
    "data[is_2018]['reservation count'].plot(legend=True, title='2018', figsize=(10,5))\n",
    "data[is_2018]['defects'].plot(legend=True)"
   ]
  },
  {
   "cell_type": "code",
   "execution_count": 6,
   "metadata": {},
   "outputs": [
    {
     "data": {
      "text/plain": [
       "<matplotlib.axes._subplots.AxesSubplot at 0x1c74fce97f0>"
      ]
     },
     "execution_count": 6,
     "metadata": {},
     "output_type": "execute_result"
    },
    {
     "data": {
      "image/png": "[encoded data removed]",
      "text/plain": [
       "<Figure size 720x360 with 1 Axes>"
      ]
     },
     "metadata": {},
     "output_type": "display_data"
    }
   ],
   "source": [
    "#2019 daily reservation and defects from Jan 1st to Dec 31st\n",
    "data[is_2019]['reservation count'].plot(legend=True, title='2019', figsize=(10,5))\n",
    "data[is_2019]['defects'].plot(legend=True)"
   ]
  },
  {
   "cell_type": "markdown",
   "metadata": {},
   "source": [
    "### Overall Distribution of Daily Reservations and Defects\n",
    "\n",
    "Below is combined distribution of daily number of reservations and defects for 2018 and 2019.\n",
    "\n",
    "Distribution of daily number of reservations is spread out from 0 to about 300.\n",
    "\n",
    "Distribution of daily number of defects is skewed to the left. There are more days with no defective reservations.\n"
   ]
  },
  {
   "cell_type": "code",
   "execution_count": 7,
   "metadata": {},
   "outputs": [
    {
     "data": {
      "text/plain": [
       "array([[<matplotlib.axes._subplots.AxesSubplot object at 0x000001C750E03358>]],\n",
       "      dtype=object)"
      ]
     },
     "execution_count": 7,
     "metadata": {},
     "output_type": "execute_result"
    },
    {
     "data": {
      "image/png": "[encoded data removed]",
      "text/plain": [
       "<Figure size 720x360 with 1 Axes>"
      ]
     },
     "metadata": {},
     "output_type": "display_data"
    },
    {
     "data": {
      "image/png": "[encoded data removed]",
      "text/plain": [
       "<Figure size 720x360 with 1 Axes>"
      ]
     },
     "metadata": {},
     "output_type": "display_data"
    }
   ],
   "source": [
    "data.hist(column='reservation count', bins=50, figsize=(10,5))\n",
    "data.hist(column='defects', bins=10, figsize=(10,5))"
   ]
  },
  {
   "cell_type": "markdown",
   "metadata": {},
   "source": [
    "Below is selection index for each month, which will help plot distribution of reservations and defects each month. "
   ]
  },
  {
   "cell_type": "code",
   "execution_count": 8,
   "metadata": {},
   "outputs": [],
   "source": [
    "is_Jan = data['month']=='Jan'\n",
    "is_Feb = data['month']=='Feb'\n",
    "is_Mar = data['month']=='Mar'\n",
    "is_Apr = data['month']=='Apr'\n",
    "is_May = data['month']=='May'\n",
    "is_Jun = data['month']=='Jun'\n",
    "is_Jul = data['month']=='Jul'\n",
    "is_Aug = data['month']=='Aug'\n",
    "is_Sep = data['month']=='Sep'\n",
    "is_Oct = data['month']=='Oct'\n",
    "is_Nov = data['month']=='Nov'\n",
    "is_Dec = data['month']=='Dec'"
   ]
  },
  {
   "cell_type": "markdown",
   "metadata": {},
   "source": [
    "### Distribution of Number of Reservation for Each Month (combined for both years)\n",
    "\n",
    "Below is visualization actual distribution of daily number of reservations for each month for the two-year period. "
   ]
  },
  {
   "cell_type": "code",
   "execution_count": 9,
   "metadata": {},
   "outputs": [
    {
     "data": {
      "image/png": "[encoded data removed]",
      "text/plain": [
       "<Figure size 1080x1080 with 12 Axes>"
      ]
     },
     "metadata": {},
     "output_type": "display_data"
    }
   ],
   "source": [
    "months_reservation = [data[is_Jan]['reservation count'], data[is_Feb]['reservation count'], data[is_Mar]['reservation count'], \n",
    "          data[is_Apr]['reservation count'], data[is_May]['reservation count'], data[is_Jun]['reservation count'],\n",
    "          data[is_Jul]['reservation count'], data[is_Aug]['reservation count'], data[is_Sep]['reservation count'],\n",
    "          data[is_Oct]['reservation count'], data[is_Nov]['reservation count'], data[is_Dec]['reservation count']]\n",
    "labels = ['Jan', 'Feb', 'Mar', 'Apr', 'May', 'Jun', 'Jul', 'Aug', 'Sep', 'Oct', 'Nov', 'Dec']\n",
    "nrow = 4\n",
    "ncol = 3\n",
    "fig, axes = plt.subplots(nrow, ncol, figsize=(15,15), sharex=True, sharey=True)\n",
    "# plot counter\n",
    "count=0\n",
    "for r in range(nrow):\n",
    "    for c in range(ncol):\n",
    "        months_reservation[count].plot(kind='hist', ax=axes[r,c], title=labels[count])\n",
    "        count = count + 1"
   ]
  },
  {
   "cell_type": "markdown",
   "metadata": {},
   "source": [
    "### Distribution of number of defects for each month (combined for both years)\n",
    "\n",
    "Distribtuion of number of defective reservation is skewed to the left. \n",
    "\n",
    "There are more days for each month that do not have any issues with reservation tickets. "
   ]
  },
  {
   "cell_type": "code",
   "execution_count": 10,
   "metadata": {},
   "outputs": [
    {
     "data": {
      "image/png": "[encoded data removed]",
      "text/plain": [
       "<Figure size 1080x1080 with 12 Axes>"
      ]
     },
     "metadata": {},
     "output_type": "display_data"
    }
   ],
   "source": [
    "months_defects = [data[is_Jan]['defects'], data[is_Feb]['defects'], data[is_Mar]['defects'], \n",
    "          data[is_Apr]['defects'], data[is_May]['defects'], data[is_Jun]['defects'],\n",
    "          data[is_Jul]['defects'], data[is_Aug]['defects'], data[is_Sep]['defects'],\n",
    "          data[is_Oct]['defects'], data[is_Nov]['defects'], data[is_Dec]['defects']]\n",
    "labels = ['Jan', 'Feb', 'Mar', 'Apr', 'May', 'Jun', 'Jul', 'Aug', 'Sep', 'Oct', 'Nov', 'Dec']\n",
    "nrow = 4\n",
    "ncol = 3\n",
    "fig, axes = plt.subplots(nrow, ncol, figsize=(15,15), sharex=True, sharey=True)\n",
    "# plot counter\n",
    "count=0\n",
    "for r in range(nrow):\n",
    "    for c in range(ncol):\n",
    "        months_defects[count].plot(kind='hist', ax=axes[r,c], title=labels[count])\n",
    "        count = count + 1"
   ]
  },
  {
   "cell_type": "markdown",
   "metadata": {},
   "source": [
    "### Build table that describe min, max, mean, and median of daily reservations and defects for each month\n",
    "\n",
    "\n",
    "This should help simulation with parameters to use when running simulation for number of reservations for each month. "
   ]
  },
  {
   "cell_type": "code",
   "execution_count": 25,
   "metadata": {},
   "outputs": [],
   "source": [
    "def get_stats(data_count, label): \n",
    "    min = data_count.min()\n",
    "    max = data_count.max()\n",
    "    mean = data_count.mean()\n",
    "    median = data_count.median()\n",
    "    var = data_count.var()\n",
    "    std = data_count.std()\n",
    "    return [label, min, max, mean, median, var, std]"
   ]
  },
  {
   "cell_type": "code",
   "execution_count": 26,
   "metadata": {},
   "outputs": [],
   "source": [
    "def build_stats_table(month_data, labels):\n",
    "    count=0\n",
    "    stats = []\n",
    "    for i in range(12):\n",
    "        stats.append(get_stats(month_data[count], labels[count]))\n",
    "        count = count + 1\n",
    "    stats = pd.DataFrame(stats, columns =['month', 'min', 'max', 'mean', 'median', 'var', 'std']) \n",
    "    return stats"
   ]
  },
  {
   "cell_type": "markdown",
   "metadata": {},
   "source": [
    "#### Reservation stats for each month for the two-year period"
   ]
  },
  {
   "cell_type": "code",
   "execution_count": 27,
   "metadata": {},
   "outputs": [
    {
     "data": {
      "text/html": [
       "<div>\n",
       "<style scoped>\n",
       "    .dataframe tbody tr th:only-of-type {\n",
       "        vertical-align: middle;\n",
       "    }\n",
       "\n",
       "    .dataframe tbody tr th {\n",
       "        vertical-align: top;\n",
       "    }\n",
       "\n",
       "    .dataframe thead th {\n",
       "        text-align: right;\n",
       "    }\n",
       "</style>\n",
       "<table border=\"1\" class=\"dataframe\">\n",
       "  <thead>\n",
       "    <tr style=\"text-align: right;\">\n",
       "      <th></th>\n",
       "      <th>month</th>\n",
       "      <th>min</th>\n",
       "      <th>max</th>\n",
       "      <th>mean</th>\n",
       "      <th>median</th>\n",
       "      <th>var</th>\n",
       "      <th>std</th>\n",
       "    </tr>\n",
       "  </thead>\n",
       "  <tbody>\n",
       "    <tr>\n",
       "      <th>0</th>\n",
       "      <td>Jan</td>\n",
       "      <td>0</td>\n",
       "      <td>135</td>\n",
       "      <td>49.016129</td>\n",
       "      <td>39.5</td>\n",
       "      <td>1250.048916</td>\n",
       "      <td>35.356031</td>\n",
       "    </tr>\n",
       "    <tr>\n",
       "      <th>1</th>\n",
       "      <td>Feb</td>\n",
       "      <td>9</td>\n",
       "      <td>173</td>\n",
       "      <td>60.321429</td>\n",
       "      <td>51.0</td>\n",
       "      <td>1138.949351</td>\n",
       "      <td>33.748324</td>\n",
       "    </tr>\n",
       "    <tr>\n",
       "      <th>2</th>\n",
       "      <td>Mar</td>\n",
       "      <td>0</td>\n",
       "      <td>268</td>\n",
       "      <td>120.274194</td>\n",
       "      <td>120.0</td>\n",
       "      <td>4380.989159</td>\n",
       "      <td>66.189041</td>\n",
       "    </tr>\n",
       "    <tr>\n",
       "      <th>3</th>\n",
       "      <td>Apr</td>\n",
       "      <td>9</td>\n",
       "      <td>233</td>\n",
       "      <td>157.233333</td>\n",
       "      <td>165.0</td>\n",
       "      <td>2547.537853</td>\n",
       "      <td>50.473140</td>\n",
       "    </tr>\n",
       "    <tr>\n",
       "      <th>4</th>\n",
       "      <td>May</td>\n",
       "      <td>91</td>\n",
       "      <td>267</td>\n",
       "      <td>170.338710</td>\n",
       "      <td>164.5</td>\n",
       "      <td>1675.473559</td>\n",
       "      <td>40.932549</td>\n",
       "    </tr>\n",
       "    <tr>\n",
       "      <th>5</th>\n",
       "      <td>Jun</td>\n",
       "      <td>143</td>\n",
       "      <td>318</td>\n",
       "      <td>238.850000</td>\n",
       "      <td>244.0</td>\n",
       "      <td>1180.333051</td>\n",
       "      <td>34.355975</td>\n",
       "    </tr>\n",
       "    <tr>\n",
       "      <th>6</th>\n",
       "      <td>Jul</td>\n",
       "      <td>129</td>\n",
       "      <td>280</td>\n",
       "      <td>219.935484</td>\n",
       "      <td>225.0</td>\n",
       "      <td>1066.520360</td>\n",
       "      <td>32.657623</td>\n",
       "    </tr>\n",
       "    <tr>\n",
       "      <th>7</th>\n",
       "      <td>Aug</td>\n",
       "      <td>117</td>\n",
       "      <td>274</td>\n",
       "      <td>198.435484</td>\n",
       "      <td>198.5</td>\n",
       "      <td>1324.676097</td>\n",
       "      <td>36.396100</td>\n",
       "    </tr>\n",
       "    <tr>\n",
       "      <th>8</th>\n",
       "      <td>Sep</td>\n",
       "      <td>71</td>\n",
       "      <td>270</td>\n",
       "      <td>164.450000</td>\n",
       "      <td>166.5</td>\n",
       "      <td>1715.912712</td>\n",
       "      <td>41.423577</td>\n",
       "    </tr>\n",
       "    <tr>\n",
       "      <th>9</th>\n",
       "      <td>Oct</td>\n",
       "      <td>14</td>\n",
       "      <td>266</td>\n",
       "      <td>157.838710</td>\n",
       "      <td>161.5</td>\n",
       "      <td>2858.334215</td>\n",
       "      <td>53.463391</td>\n",
       "    </tr>\n",
       "    <tr>\n",
       "      <th>10</th>\n",
       "      <td>Nov</td>\n",
       "      <td>0</td>\n",
       "      <td>255</td>\n",
       "      <td>136.400000</td>\n",
       "      <td>134.5</td>\n",
       "      <td>3294.244068</td>\n",
       "      <td>57.395506</td>\n",
       "    </tr>\n",
       "    <tr>\n",
       "      <th>11</th>\n",
       "      <td>Dec</td>\n",
       "      <td>0</td>\n",
       "      <td>207</td>\n",
       "      <td>117.741935</td>\n",
       "      <td>113.5</td>\n",
       "      <td>2254.358540</td>\n",
       "      <td>47.480086</td>\n",
       "    </tr>\n",
       "  </tbody>\n",
       "</table>\n",
       "</div>"
      ],
      "text/plain": [
       "   month  min  max        mean  median          var        std\n",
       "0    Jan    0  135   49.016129    39.5  1250.048916  35.356031\n",
       "1    Feb    9  173   60.321429    51.0  1138.949351  33.748324\n",
       "2    Mar    0  268  120.274194   120.0  4380.989159  66.189041\n",
       "3    Apr    9  233  157.233333   165.0  2547.537853  50.473140\n",
       "4    May   91  267  170.338710   164.5  1675.473559  40.932549\n",
       "5    Jun  143  318  238.850000   244.0  1180.333051  34.355975\n",
       "6    Jul  129  280  219.935484   225.0  1066.520360  32.657623\n",
       "7    Aug  117  274  198.435484   198.5  1324.676097  36.396100\n",
       "8    Sep   71  270  164.450000   166.5  1715.912712  41.423577\n",
       "9    Oct   14  266  157.838710   161.5  2858.334215  53.463391\n",
       "10   Nov    0  255  136.400000   134.5  3294.244068  57.395506\n",
       "11   Dec    0  207  117.741935   113.5  2254.358540  47.480086"
      ]
     },
     "execution_count": 27,
     "metadata": {},
     "output_type": "execute_result"
    }
   ],
   "source": [
    "reservation_stats = build_stats_table(months_reservation, labels)\n",
    "reservation_stats"
   ]
  },
  {
   "cell_type": "markdown",
   "metadata": {},
   "source": [
    "#### Defects stats for each month for the two-year period"
   ]
  },
  {
   "cell_type": "code",
   "execution_count": 28,
   "metadata": {},
   "outputs": [
    {
     "data": {
      "text/html": [
       "<div>\n",
       "<style scoped>\n",
       "    .dataframe tbody tr th:only-of-type {\n",
       "        vertical-align: middle;\n",
       "    }\n",
       "\n",
       "    .dataframe tbody tr th {\n",
       "        vertical-align: top;\n",
       "    }\n",
       "\n",
       "    .dataframe thead th {\n",
       "        text-align: right;\n",
       "    }\n",
       "</style>\n",
       "<table border=\"1\" class=\"dataframe\">\n",
       "  <thead>\n",
       "    <tr style=\"text-align: right;\">\n",
       "      <th></th>\n",
       "      <th>month</th>\n",
       "      <th>min</th>\n",
       "      <th>max</th>\n",
       "      <th>mean</th>\n",
       "      <th>median</th>\n",
       "      <th>var</th>\n",
       "      <th>std</th>\n",
       "    </tr>\n",
       "  </thead>\n",
       "  <tbody>\n",
       "    <tr>\n",
       "      <th>0</th>\n",
       "      <td>Jan</td>\n",
       "      <td>0</td>\n",
       "      <td>4</td>\n",
       "      <td>0.419355</td>\n",
       "      <td>0.0</td>\n",
       "      <td>0.936013</td>\n",
       "      <td>0.967477</td>\n",
       "    </tr>\n",
       "    <tr>\n",
       "      <th>1</th>\n",
       "      <td>Feb</td>\n",
       "      <td>0</td>\n",
       "      <td>4</td>\n",
       "      <td>0.428571</td>\n",
       "      <td>0.0</td>\n",
       "      <td>0.903896</td>\n",
       "      <td>0.950735</td>\n",
       "    </tr>\n",
       "    <tr>\n",
       "      <th>2</th>\n",
       "      <td>Mar</td>\n",
       "      <td>0</td>\n",
       "      <td>10</td>\n",
       "      <td>1.854839</td>\n",
       "      <td>1.5</td>\n",
       "      <td>5.339238</td>\n",
       "      <td>2.310679</td>\n",
       "    </tr>\n",
       "    <tr>\n",
       "      <th>3</th>\n",
       "      <td>Apr</td>\n",
       "      <td>0</td>\n",
       "      <td>14</td>\n",
       "      <td>3.200000</td>\n",
       "      <td>3.0</td>\n",
       "      <td>8.332203</td>\n",
       "      <td>2.886556</td>\n",
       "    </tr>\n",
       "    <tr>\n",
       "      <th>4</th>\n",
       "      <td>May</td>\n",
       "      <td>0</td>\n",
       "      <td>10</td>\n",
       "      <td>3.451613</td>\n",
       "      <td>3.5</td>\n",
       "      <td>7.727129</td>\n",
       "      <td>2.779771</td>\n",
       "    </tr>\n",
       "    <tr>\n",
       "      <th>5</th>\n",
       "      <td>Jun</td>\n",
       "      <td>0</td>\n",
       "      <td>16</td>\n",
       "      <td>5.516667</td>\n",
       "      <td>5.0</td>\n",
       "      <td>14.491243</td>\n",
       "      <td>3.806737</td>\n",
       "    </tr>\n",
       "    <tr>\n",
       "      <th>6</th>\n",
       "      <td>Jul</td>\n",
       "      <td>0</td>\n",
       "      <td>12</td>\n",
       "      <td>4.048387</td>\n",
       "      <td>4.0</td>\n",
       "      <td>8.177948</td>\n",
       "      <td>2.859711</td>\n",
       "    </tr>\n",
       "    <tr>\n",
       "      <th>7</th>\n",
       "      <td>Aug</td>\n",
       "      <td>0</td>\n",
       "      <td>9</td>\n",
       "      <td>2.322581</td>\n",
       "      <td>2.0</td>\n",
       "      <td>4.910629</td>\n",
       "      <td>2.215994</td>\n",
       "    </tr>\n",
       "    <tr>\n",
       "      <th>8</th>\n",
       "      <td>Sep</td>\n",
       "      <td>0</td>\n",
       "      <td>8</td>\n",
       "      <td>2.500000</td>\n",
       "      <td>2.0</td>\n",
       "      <td>4.762712</td>\n",
       "      <td>2.182364</td>\n",
       "    </tr>\n",
       "    <tr>\n",
       "      <th>9</th>\n",
       "      <td>Oct</td>\n",
       "      <td>0</td>\n",
       "      <td>10</td>\n",
       "      <td>1.790323</td>\n",
       "      <td>2.0</td>\n",
       "      <td>3.873347</td>\n",
       "      <td>1.968082</td>\n",
       "    </tr>\n",
       "    <tr>\n",
       "      <th>10</th>\n",
       "      <td>Nov</td>\n",
       "      <td>0</td>\n",
       "      <td>6</td>\n",
       "      <td>1.800000</td>\n",
       "      <td>1.5</td>\n",
       "      <td>3.349153</td>\n",
       "      <td>1.830069</td>\n",
       "    </tr>\n",
       "    <tr>\n",
       "      <th>11</th>\n",
       "      <td>Dec</td>\n",
       "      <td>0</td>\n",
       "      <td>4</td>\n",
       "      <td>1.306452</td>\n",
       "      <td>0.0</td>\n",
       "      <td>2.642253</td>\n",
       "      <td>1.625501</td>\n",
       "    </tr>\n",
       "  </tbody>\n",
       "</table>\n",
       "</div>"
      ],
      "text/plain": [
       "   month  min  max      mean  median        var       std\n",
       "0    Jan    0    4  0.419355     0.0   0.936013  0.967477\n",
       "1    Feb    0    4  0.428571     0.0   0.903896  0.950735\n",
       "2    Mar    0   10  1.854839     1.5   5.339238  2.310679\n",
       "3    Apr    0   14  3.200000     3.0   8.332203  2.886556\n",
       "4    May    0   10  3.451613     3.5   7.727129  2.779771\n",
       "5    Jun    0   16  5.516667     5.0  14.491243  3.806737\n",
       "6    Jul    0   12  4.048387     4.0   8.177948  2.859711\n",
       "7    Aug    0    9  2.322581     2.0   4.910629  2.215994\n",
       "8    Sep    0    8  2.500000     2.0   4.762712  2.182364\n",
       "9    Oct    0   10  1.790323     2.0   3.873347  1.968082\n",
       "10   Nov    0    6  1.800000     1.5   3.349153  1.830069\n",
       "11   Dec    0    4  1.306452     0.0   2.642253  1.625501"
      ]
     },
     "execution_count": 28,
     "metadata": {},
     "output_type": "execute_result"
    }
   ],
   "source": [
    "defects_stats = build_stats_table(months_defects, labels)\n",
    "defects_stats"
   ]
  },
  {
   "cell_type": "markdown",
   "metadata": {},
   "source": [
    "----\n",
    "\n",
    "## Simulation \n",
    "\n",
    "The simulation below goes through `reservation_stats` and `defects_stats` that's generated based on daily reservations and defects from two-year period. \n",
    "\n",
    "For each month, daily reservations and defects are simulated 10,000 times using the Poisson distribution. This number of simulation is chosen to use the concept of law of large numbers. Also, running simulation in this exercise is inexpensive. It's a very simple simulation of count data using the Poisson distribution. The mean parameter for each month is based on two-year data.   \n",
    "\n"
   ]
  },
  {
   "cell_type": "code",
   "execution_count": 388,
   "metadata": {},
   "outputs": [],
   "source": [
    "np.random.seed(36)"
   ]
  },
  {
   "cell_type": "code",
   "execution_count": 389,
   "metadata": {},
   "outputs": [],
   "source": [
    "def run_simulation(month_stats):\n",
    "    results = TimeSeries()   \n",
    "    for index, row in month_stats.iterrows():\n",
    "        results[row['month']] =  np.random.poisson(row['mean'], 10000)\n",
    "    return results"
   ]
  },
  {
   "cell_type": "markdown",
   "metadata": {},
   "source": [
    "Simulate daily number of reservations for each month."
   ]
  },
  {
   "cell_type": "code",
   "execution_count": 390,
   "metadata": {},
   "outputs": [
    {
     "data": {
      "text/html": [
       "<div>\n",
       "<style scoped>\n",
       "    .dataframe tbody tr th:only-of-type {\n",
       "        vertical-align: middle;\n",
       "    }\n",
       "\n",
       "    .dataframe tbody tr th {\n",
       "        vertical-align: top;\n",
       "    }\n",
       "\n",
       "    .dataframe thead th {\n",
       "        text-align: right;\n",
       "    }\n",
       "</style>\n",
       "<table border=\"1\" class=\"dataframe\">\n",
       "  <thead>\n",
       "    <tr style=\"text-align: right;\">\n",
       "      <th></th>\n",
       "      <th>values</th>\n",
       "    </tr>\n",
       "  </thead>\n",
       "  <tbody>\n",
       "    <tr>\n",
       "      <th>Jan</th>\n",
       "      <td>[54, 65, 56, 42, 52, 50, 43, 43, 48, 48, 53, 5...</td>\n",
       "    </tr>\n",
       "    <tr>\n",
       "      <th>Feb</th>\n",
       "      <td>[74, 70, 56, 62, 58, 57, 51, 62, 68, 68, 54, 4...</td>\n",
       "    </tr>\n",
       "    <tr>\n",
       "      <th>Mar</th>\n",
       "      <td>[147, 138, 116, 126, 121, 120, 120, 126, 117, ...</td>\n",
       "    </tr>\n",
       "    <tr>\n",
       "      <th>Apr</th>\n",
       "      <td>[172, 166, 155, 144, 148, 141, 169, 150, 175, ...</td>\n",
       "    </tr>\n",
       "    <tr>\n",
       "      <th>May</th>\n",
       "      <td>[168, 178, 172, 168, 153, 181, 148, 175, 157, ...</td>\n",
       "    </tr>\n",
       "    <tr>\n",
       "      <th>Jun</th>\n",
       "      <td>[239, 242, 237, 248, 257, 235, 241, 232, 246, ...</td>\n",
       "    </tr>\n",
       "    <tr>\n",
       "      <th>Jul</th>\n",
       "      <td>[196, 250, 206, 212, 225, 231, 215, 209, 225, ...</td>\n",
       "    </tr>\n",
       "    <tr>\n",
       "      <th>Aug</th>\n",
       "      <td>[184, 183, 194, 235, 187, 211, 198, 170, 213, ...</td>\n",
       "    </tr>\n",
       "    <tr>\n",
       "      <th>Sep</th>\n",
       "      <td>[159, 167, 162, 173, 155, 186, 159, 182, 157, ...</td>\n",
       "    </tr>\n",
       "    <tr>\n",
       "      <th>Oct</th>\n",
       "      <td>[156, 164, 162, 146, 138, 154, 155, 153, 160, ...</td>\n",
       "    </tr>\n",
       "    <tr>\n",
       "      <th>Nov</th>\n",
       "      <td>[148, 131, 138, 152, 153, 134, 119, 152, 134, ...</td>\n",
       "    </tr>\n",
       "    <tr>\n",
       "      <th>Dec</th>\n",
       "      <td>[112, 111, 95, 103, 106, 109, 132, 126, 102, 1...</td>\n",
       "    </tr>\n",
       "  </tbody>\n",
       "</table>\n",
       "</div>"
      ],
      "text/plain": [
       "Jan    [54, 65, 56, 42, 52, 50, 43, 43, 48, 48, 53, 5...\n",
       "Feb    [74, 70, 56, 62, 58, 57, 51, 62, 68, 68, 54, 4...\n",
       "Mar    [147, 138, 116, 126, 121, 120, 120, 126, 117, ...\n",
       "Apr    [172, 166, 155, 144, 148, 141, 169, 150, 175, ...\n",
       "May    [168, 178, 172, 168, 153, 181, 148, 175, 157, ...\n",
       "Jun    [239, 242, 237, 248, 257, 235, 241, 232, 246, ...\n",
       "Jul    [196, 250, 206, 212, 225, 231, 215, 209, 225, ...\n",
       "Aug    [184, 183, 194, 235, 187, 211, 198, 170, 213, ...\n",
       "Sep    [159, 167, 162, 173, 155, 186, 159, 182, 157, ...\n",
       "Oct    [156, 164, 162, 146, 138, 154, 155, 153, 160, ...\n",
       "Nov    [148, 131, 138, 152, 153, 134, 119, 152, 134, ...\n",
       "Dec    [112, 111, 95, 103, 106, 109, 132, 126, 102, 1...\n",
       "dtype: object"
      ]
     },
     "execution_count": 390,
     "metadata": {},
     "output_type": "execute_result"
    }
   ],
   "source": [
    "reservation_results = run_simulation(reservation_stats)"
   ]
  },
  {
   "cell_type": "markdown",
   "metadata": {},
   "source": [
    "Simulate number of daily defects for each month."
   ]
  },
  {
   "cell_type": "code",
   "execution_count": 391,
   "metadata": {},
   "outputs": [
    {
     "data": {
      "text/html": [
       "<div>\n",
       "<style scoped>\n",
       "    .dataframe tbody tr th:only-of-type {\n",
       "        vertical-align: middle;\n",
       "    }\n",
       "\n",
       "    .dataframe tbody tr th {\n",
       "        vertical-align: top;\n",
       "    }\n",
       "\n",
       "    .dataframe thead th {\n",
       "        text-align: right;\n",
       "    }\n",
       "</style>\n",
       "<table border=\"1\" class=\"dataframe\">\n",
       "  <thead>\n",
       "    <tr style=\"text-align: right;\">\n",
       "      <th></th>\n",
       "      <th>values</th>\n",
       "    </tr>\n",
       "  </thead>\n",
       "  <tbody>\n",
       "    <tr>\n",
       "      <th>Jan</th>\n",
       "      <td>[0, 0, 0, 0, 0, 1, 0, 0, 0, 0, 1, 0, 1, 0, 0, ...</td>\n",
       "    </tr>\n",
       "    <tr>\n",
       "      <th>Feb</th>\n",
       "      <td>[1, 0, 1, 0, 0, 0, 0, 1, 0, 0, 0, 2, 0, 1, 0, ...</td>\n",
       "    </tr>\n",
       "    <tr>\n",
       "      <th>Mar</th>\n",
       "      <td>[0, 1, 1, 2, 1, 3, 1, 4, 3, 3, 3, 2, 1, 3, 1, ...</td>\n",
       "    </tr>\n",
       "    <tr>\n",
       "      <th>Apr</th>\n",
       "      <td>[4, 6, 1, 2, 4, 4, 5, 1, 2, 8, 4, 2, 6, 3, 3, ...</td>\n",
       "    </tr>\n",
       "    <tr>\n",
       "      <th>May</th>\n",
       "      <td>[4, 1, 4, 1, 5, 7, 6, 4, 3, 4, 1, 3, 2, 4, 4, ...</td>\n",
       "    </tr>\n",
       "    <tr>\n",
       "      <th>Jun</th>\n",
       "      <td>[2, 10, 5, 2, 5, 6, 6, 1, 6, 8, 3, 5, 6, 3, 11...</td>\n",
       "    </tr>\n",
       "    <tr>\n",
       "      <th>Jul</th>\n",
       "      <td>[3, 3, 8, 5, 4, 5, 4, 2, 5, 3, 4, 3, 2, 3, 8, ...</td>\n",
       "    </tr>\n",
       "    <tr>\n",
       "      <th>Aug</th>\n",
       "      <td>[3, 3, 2, 2, 5, 4, 2, 3, 1, 2, 3, 2, 3, 2, 4, ...</td>\n",
       "    </tr>\n",
       "    <tr>\n",
       "      <th>Sep</th>\n",
       "      <td>[3, 9, 5, 4, 1, 2, 2, 3, 3, 2, 2, 1, 2, 2, 0, ...</td>\n",
       "    </tr>\n",
       "    <tr>\n",
       "      <th>Oct</th>\n",
       "      <td>[3, 3, 1, 3, 3, 0, 4, 1, 4, 2, 1, 2, 0, 1, 0, ...</td>\n",
       "    </tr>\n",
       "    <tr>\n",
       "      <th>Nov</th>\n",
       "      <td>[3, 2, 0, 2, 0, 5, 2, 1, 0, 3, 1, 3, 3, 2, 1, ...</td>\n",
       "    </tr>\n",
       "    <tr>\n",
       "      <th>Dec</th>\n",
       "      <td>[4, 2, 0, 1, 2, 0, 1, 1, 0, 2, 1, 1, 1, 1, 3, ...</td>\n",
       "    </tr>\n",
       "  </tbody>\n",
       "</table>\n",
       "</div>"
      ],
      "text/plain": [
       "Jan    [0, 0, 0, 0, 0, 1, 0, 0, 0, 0, 1, 0, 1, 0, 0, ...\n",
       "Feb    [1, 0, 1, 0, 0, 0, 0, 1, 0, 0, 0, 2, 0, 1, 0, ...\n",
       "Mar    [0, 1, 1, 2, 1, 3, 1, 4, 3, 3, 3, 2, 1, 3, 1, ...\n",
       "Apr    [4, 6, 1, 2, 4, 4, 5, 1, 2, 8, 4, 2, 6, 3, 3, ...\n",
       "May    [4, 1, 4, 1, 5, 7, 6, 4, 3, 4, 1, 3, 2, 4, 4, ...\n",
       "Jun    [2, 10, 5, 2, 5, 6, 6, 1, 6, 8, 3, 5, 6, 3, 11...\n",
       "Jul    [3, 3, 8, 5, 4, 5, 4, 2, 5, 3, 4, 3, 2, 3, 8, ...\n",
       "Aug    [3, 3, 2, 2, 5, 4, 2, 3, 1, 2, 3, 2, 3, 2, 4, ...\n",
       "Sep    [3, 9, 5, 4, 1, 2, 2, 3, 3, 2, 2, 1, 2, 2, 0, ...\n",
       "Oct    [3, 3, 1, 3, 3, 0, 4, 1, 4, 2, 1, 2, 0, 1, 0, ...\n",
       "Nov    [3, 2, 0, 2, 0, 5, 2, 1, 0, 3, 1, 3, 3, 2, 1, ...\n",
       "Dec    [4, 2, 0, 1, 2, 0, 1, 1, 0, 2, 1, 1, 1, 1, 3, ...\n",
       "dtype: object"
      ]
     },
     "execution_count": 391,
     "metadata": {},
     "output_type": "execute_result"
    }
   ],
   "source": [
    "defects_results = run_simulation(defects_stats)"
   ]
  },
  {
   "cell_type": "markdown",
   "metadata": {},
   "source": [
    "### Staffing Recommendation\n",
    "\n",
    "The functions below help generate recommendations for management to consider on whether seasonal staff should be hired for certain months and whether designated staff should be present on the floor to handle defective tickets.\n"
   ]
  },
  {
   "cell_type": "code",
   "execution_count": 403,
   "metadata": {},
   "outputs": [],
   "source": [
    "def staff_needs(month, month_data, full_time_threshold, prob_threshold, message):\n",
    "    high_demand = .80\n",
    "    total = len(month_data)\n",
    "    bool = month_data > full_time_threshold\n",
    "    ratio = (len(month_data[bool]) + 1)/(total + 1)\n",
    "    if ratio > prob_threshold:\n",
    "        text = message[1]\n",
    "    else:\n",
    "        text = message[0]\n",
    "    if ratio > high_demand:\n",
    "        indicator = \"***\"\n",
    "    else:\n",
    "        indicator = ''\n",
    "    return pd.DataFrame([[month, round(ratio, 2), ratio > prob_threshold, text, indicator]])"
   ]
  },
  {
   "cell_type": "code",
   "execution_count": 401,
   "metadata": {},
   "outputs": [],
   "source": [
    "def hire_seasonal_researchers(full_time_threshold, prob_threshold):\n",
    "    recommend = pd.DataFrame()\n",
    "    message = Series(index=[1, 0], data=[\"consider hiring seasonal staff\", \"full-time staff only\"])\n",
    "    for index, value in reservation_results.items():\n",
    "        recommend = recommend.append(staff_needs(index, value, full_time_threshold, prob_threshold, message))\n",
    "    recommend.columns = [\"month\", \"ratio\", \"exceed threshold\", \"recommendation\", \"high demand\"]\n",
    "    return recommend"
   ]
  },
  {
   "cell_type": "code",
   "execution_count": 397,
   "metadata": {},
   "outputs": [],
   "source": [
    "def assign_defect_manager(defect_threshold, prob_threshold):\n",
    "    recommend = pd.DataFrame()\n",
    "    message = Series(index=[1, 0], data=[\"consider designating staff for defects\", \"low demand\"])\n",
    "    for index, value in defects_results.items():\n",
    "        recommend = recommend.append(staff_needs(index, value, defect_threshold, prob_threshold, message))\n",
    "    recommend.columns = [\"month\", \"ratio\", \"exceed threshold\", \"recommendation\"]\n",
    "    return recommend"
   ]
  },
  {
   "cell_type": "markdown",
   "metadata": {},
   "source": [
    "### Seasonal Staff Recommendation\n",
    "\n",
    "The output below shows the ratio of daily reservations exceeding the full-time staff capacity of 150. \n",
    "\n",
    "The probability threshold is .50. If ratio exceeds this threshold, output will recommend considering hiring seasonal staff. \n",
    "\n",
    "Months that exceed 0.8 ratio are flagged. This means that more than 80% of the days in the month exceed full-time staff capacity. Management may need to consider hiring more seasonal staff to ensure that days are covered in case someone calls out. \n"
   ]
  },
  {
   "cell_type": "code",
   "execution_count": 404,
   "metadata": {},
   "outputs": [
    {
     "data": {
      "text/html": [
       "<div>\n",
       "<style scoped>\n",
       "    .dataframe tbody tr th:only-of-type {\n",
       "        vertical-align: middle;\n",
       "    }\n",
       "\n",
       "    .dataframe tbody tr th {\n",
       "        vertical-align: top;\n",
       "    }\n",
       "\n",
       "    .dataframe thead th {\n",
       "        text-align: right;\n",
       "    }\n",
       "</style>\n",
       "<table border=\"1\" class=\"dataframe\">\n",
       "  <thead>\n",
       "    <tr style=\"text-align: right;\">\n",
       "      <th></th>\n",
       "      <th>month</th>\n",
       "      <th>ratio</th>\n",
       "      <th>exceed threshold</th>\n",
       "      <th>recommendation</th>\n",
       "      <th>high demand</th>\n",
       "    </tr>\n",
       "  </thead>\n",
       "  <tbody>\n",
       "    <tr>\n",
       "      <th>0</th>\n",
       "      <td>Jan</td>\n",
       "      <td>0.00</td>\n",
       "      <td>False</td>\n",
       "      <td>full-time staff only</td>\n",
       "      <td></td>\n",
       "    </tr>\n",
       "    <tr>\n",
       "      <th>0</th>\n",
       "      <td>Feb</td>\n",
       "      <td>0.00</td>\n",
       "      <td>False</td>\n",
       "      <td>full-time staff only</td>\n",
       "      <td></td>\n",
       "    </tr>\n",
       "    <tr>\n",
       "      <th>0</th>\n",
       "      <td>Mar</td>\n",
       "      <td>0.00</td>\n",
       "      <td>False</td>\n",
       "      <td>full-time staff only</td>\n",
       "      <td></td>\n",
       "    </tr>\n",
       "    <tr>\n",
       "      <th>0</th>\n",
       "      <td>Apr</td>\n",
       "      <td>0.70</td>\n",
       "      <td>True</td>\n",
       "      <td>consider hiring seasonal staff</td>\n",
       "      <td></td>\n",
       "    </tr>\n",
       "    <tr>\n",
       "      <th>0</th>\n",
       "      <td>May</td>\n",
       "      <td>0.94</td>\n",
       "      <td>True</td>\n",
       "      <td>consider hiring seasonal staff</td>\n",
       "      <td>***</td>\n",
       "    </tr>\n",
       "    <tr>\n",
       "      <th>0</th>\n",
       "      <td>Jun</td>\n",
       "      <td>1.00</td>\n",
       "      <td>True</td>\n",
       "      <td>consider hiring seasonal staff</td>\n",
       "      <td>***</td>\n",
       "    </tr>\n",
       "    <tr>\n",
       "      <th>0</th>\n",
       "      <td>Jul</td>\n",
       "      <td>1.00</td>\n",
       "      <td>True</td>\n",
       "      <td>consider hiring seasonal staff</td>\n",
       "      <td>***</td>\n",
       "    </tr>\n",
       "    <tr>\n",
       "      <th>0</th>\n",
       "      <td>Aug</td>\n",
       "      <td>1.00</td>\n",
       "      <td>True</td>\n",
       "      <td>consider hiring seasonal staff</td>\n",
       "      <td>***</td>\n",
       "    </tr>\n",
       "    <tr>\n",
       "      <th>0</th>\n",
       "      <td>Sep</td>\n",
       "      <td>0.86</td>\n",
       "      <td>True</td>\n",
       "      <td>consider hiring seasonal staff</td>\n",
       "      <td>***</td>\n",
       "    </tr>\n",
       "    <tr>\n",
       "      <th>0</th>\n",
       "      <td>Oct</td>\n",
       "      <td>0.72</td>\n",
       "      <td>True</td>\n",
       "      <td>consider hiring seasonal staff</td>\n",
       "      <td></td>\n",
       "    </tr>\n",
       "    <tr>\n",
       "      <th>0</th>\n",
       "      <td>Nov</td>\n",
       "      <td>0.11</td>\n",
       "      <td>False</td>\n",
       "      <td>full-time staff only</td>\n",
       "      <td></td>\n",
       "    </tr>\n",
       "    <tr>\n",
       "      <th>0</th>\n",
       "      <td>Dec</td>\n",
       "      <td>0.00</td>\n",
       "      <td>False</td>\n",
       "      <td>full-time staff only</td>\n",
       "      <td></td>\n",
       "    </tr>\n",
       "  </tbody>\n",
       "</table>\n",
       "</div>"
      ],
      "text/plain": [
       "  month  ratio  exceed threshold                  recommendation high demand\n",
       "0   Jan   0.00             False            full-time staff only            \n",
       "0   Feb   0.00             False            full-time staff only            \n",
       "0   Mar   0.00             False            full-time staff only            \n",
       "0   Apr   0.70              True  consider hiring seasonal staff            \n",
       "0   May   0.94              True  consider hiring seasonal staff         ***\n",
       "0   Jun   1.00              True  consider hiring seasonal staff         ***\n",
       "0   Jul   1.00              True  consider hiring seasonal staff         ***\n",
       "0   Aug   1.00              True  consider hiring seasonal staff         ***\n",
       "0   Sep   0.86              True  consider hiring seasonal staff         ***\n",
       "0   Oct   0.72              True  consider hiring seasonal staff            \n",
       "0   Nov   0.11             False            full-time staff only            \n",
       "0   Dec   0.00             False            full-time staff only            "
      ]
     },
     "execution_count": 404,
     "metadata": {},
     "output_type": "execute_result"
    }
   ],
   "source": [
    "full_time_threshold = 150\n",
    "prob_threshold = .50\n",
    "seasonal_recommend = hire_seasonal_researchers(full_time_threshold, prob_threshold)"
   ]
  },
  {
   "cell_type": "markdown",
   "metadata": {},
   "source": [
    "The bar chart below shows ratio of days for each month that exceed full-time staff capacity. \n",
    "\n",
    "Low demand months for seasonal staff are December, November, March, Febrary, and January. Peak months are June through August. \n",
    "\n",
    "The yellow vertical line represents the threshold of 0.5. When ratio exceeds this threshold, simulation recommends for maanagement to consider hiring seasonal staff. This means at least 50% of the days in the month exceed full-time staff capacity. \n",
    "\n",
    "The red vertical line represent months with more than 80% of days that exceed full-time staff capacity. Management may need to consider hiring more seasonal staff to ensure that days are covered in case someone calls out."
   ]
  },
  {
   "cell_type": "code",
   "execution_count": 410,
   "metadata": {},
   "outputs": [
    {
     "data": {
      "text/plain": [
       "<matplotlib.lines.Line2D at 0x1c75accce80>"
      ]
     },
     "execution_count": 410,
     "metadata": {},
     "output_type": "execute_result"
    },
    {
     "data": {
      "image/png": "[encoded data removed]",
      "text/plain": [
       "<Figure size 720x720 with 1 Axes>"
      ]
     },
     "metadata": {},
     "output_type": "display_data"
    }
   ],
   "source": [
    "seasonal_recommend.plot.barh(x='month', y='ratio', rot=0, stacked=True, color='C0', figsize=(10,10))\n",
    "plt.axvline(prob_threshold, 0, 1, label='pyplot vertical line', color='C4')\n",
    "plt.axvline(0.80, 0, 1, label='pyplot vertical line', color='C2')"
   ]
  },
  {
   "cell_type": "markdown",
   "metadata": {},
   "source": [
    "### Designated Staff for Defective Reservation Tickets\n",
    "\n",
    "\n",
    "The output below shows the ratio of daily defects exceeding 1. \n",
    "\n",
    "The probability threshold is .50. If ratio exceeds this threshold, output will recommend designating staff to manage defective reservation tickets. \n"
   ]
  },
  {
   "cell_type": "code",
   "execution_count": 398,
   "metadata": {},
   "outputs": [
    {
     "data": {
      "text/html": [
       "<div>\n",
       "<style scoped>\n",
       "    .dataframe tbody tr th:only-of-type {\n",
       "        vertical-align: middle;\n",
       "    }\n",
       "\n",
       "    .dataframe tbody tr th {\n",
       "        vertical-align: top;\n",
       "    }\n",
       "\n",
       "    .dataframe thead th {\n",
       "        text-align: right;\n",
       "    }\n",
       "</style>\n",
       "<table border=\"1\" class=\"dataframe\">\n",
       "  <thead>\n",
       "    <tr style=\"text-align: right;\">\n",
       "      <th></th>\n",
       "      <th>month</th>\n",
       "      <th>ratio</th>\n",
       "      <th>exceed threshold</th>\n",
       "      <th>recommendation</th>\n",
       "    </tr>\n",
       "  </thead>\n",
       "  <tbody>\n",
       "    <tr>\n",
       "      <th>0</th>\n",
       "      <td>Jan</td>\n",
       "      <td>0.06</td>\n",
       "      <td>False</td>\n",
       "      <td>low demand</td>\n",
       "    </tr>\n",
       "    <tr>\n",
       "      <th>0</th>\n",
       "      <td>Feb</td>\n",
       "      <td>0.07</td>\n",
       "      <td>False</td>\n",
       "      <td>low demand</td>\n",
       "    </tr>\n",
       "    <tr>\n",
       "      <th>0</th>\n",
       "      <td>Mar</td>\n",
       "      <td>0.55</td>\n",
       "      <td>True</td>\n",
       "      <td>consider designating staff for defects</td>\n",
       "    </tr>\n",
       "    <tr>\n",
       "      <th>0</th>\n",
       "      <td>Apr</td>\n",
       "      <td>0.83</td>\n",
       "      <td>True</td>\n",
       "      <td>consider designating staff for defects</td>\n",
       "    </tr>\n",
       "    <tr>\n",
       "      <th>0</th>\n",
       "      <td>May</td>\n",
       "      <td>0.86</td>\n",
       "      <td>True</td>\n",
       "      <td>consider designating staff for defects</td>\n",
       "    </tr>\n",
       "    <tr>\n",
       "      <th>0</th>\n",
       "      <td>Jun</td>\n",
       "      <td>0.97</td>\n",
       "      <td>True</td>\n",
       "      <td>consider designating staff for defects</td>\n",
       "    </tr>\n",
       "    <tr>\n",
       "      <th>0</th>\n",
       "      <td>Jul</td>\n",
       "      <td>0.91</td>\n",
       "      <td>True</td>\n",
       "      <td>consider designating staff for defects</td>\n",
       "    </tr>\n",
       "    <tr>\n",
       "      <th>0</th>\n",
       "      <td>Aug</td>\n",
       "      <td>0.68</td>\n",
       "      <td>True</td>\n",
       "      <td>consider designating staff for defects</td>\n",
       "    </tr>\n",
       "    <tr>\n",
       "      <th>0</th>\n",
       "      <td>Sep</td>\n",
       "      <td>0.71</td>\n",
       "      <td>True</td>\n",
       "      <td>consider designating staff for defects</td>\n",
       "    </tr>\n",
       "    <tr>\n",
       "      <th>0</th>\n",
       "      <td>Oct</td>\n",
       "      <td>0.53</td>\n",
       "      <td>True</td>\n",
       "      <td>consider designating staff for defects</td>\n",
       "    </tr>\n",
       "    <tr>\n",
       "      <th>0</th>\n",
       "      <td>Nov</td>\n",
       "      <td>0.53</td>\n",
       "      <td>True</td>\n",
       "      <td>consider designating staff for defects</td>\n",
       "    </tr>\n",
       "    <tr>\n",
       "      <th>0</th>\n",
       "      <td>Dec</td>\n",
       "      <td>0.37</td>\n",
       "      <td>False</td>\n",
       "      <td>low demand</td>\n",
       "    </tr>\n",
       "  </tbody>\n",
       "</table>\n",
       "</div>"
      ],
      "text/plain": [
       "  month  ratio  exceed threshold                          recommendation\n",
       "0   Jan   0.06             False                              low demand\n",
       "0   Feb   0.07             False                              low demand\n",
       "0   Mar   0.55              True  consider designating staff for defects\n",
       "0   Apr   0.83              True  consider designating staff for defects\n",
       "0   May   0.86              True  consider designating staff for defects\n",
       "0   Jun   0.97              True  consider designating staff for defects\n",
       "0   Jul   0.91              True  consider designating staff for defects\n",
       "0   Aug   0.68              True  consider designating staff for defects\n",
       "0   Sep   0.71              True  consider designating staff for defects\n",
       "0   Oct   0.53              True  consider designating staff for defects\n",
       "0   Nov   0.53              True  consider designating staff for defects\n",
       "0   Dec   0.37             False                              low demand"
      ]
     },
     "execution_count": 398,
     "metadata": {},
     "output_type": "execute_result"
    }
   ],
   "source": [
    "defect_threshold = 1\n",
    "prob_threshold = .50\n",
    "defect_manager_recommend = assign_defect_manager(defect_threshold, prob_threshold)"
   ]
  },
  {
   "cell_type": "markdown",
   "metadata": {},
   "source": [
    "The chart below shows which months management should consider designation staff to handle defective reservation tickets. \n",
    "\n",
    "January, February, and December are low demand months. Peak month is June. "
   ]
  },
  {
   "cell_type": "code",
   "execution_count": 405,
   "metadata": {},
   "outputs": [
    {
     "data": {
      "text/plain": [
       "<matplotlib.lines.Line2D at 0x1c75a752eb8>"
      ]
     },
     "execution_count": 405,
     "metadata": {},
     "output_type": "execute_result"
    },
    {
     "data": {
      "image/png": "[encoded data removed]",
      "text/plain": [
       "<Figure size 720x720 with 1 Axes>"
      ]
     },
     "metadata": {},
     "output_type": "display_data"
    }
   ],
   "source": [
    "defect_manager_recommend.plot.barh(x='month', y='ratio', rot=0, stacked=True, color='C0', figsize=(10,10))\n",
    "plt.axvline(prob_threshold, 0, 1, label='pyplot vertical line', color='C4')"
   ]
  },
  {
   "cell_type": "markdown",
   "metadata": {},
   "source": [
    "### Conclusion\n",
    "\n",
    "\n",
    "Based on two year data of daily reservations and defective tickets for each month, we can see that there is higher demand around the summer months when more tourists visit the center. August, June, and July appear to be months with highest demand for seasonal staff. June appears to be the month with highest demand for designated staff for defective reservation tickets. \n",
    "\n"
   ]
  },
  {
   "cell_type": "code",
   "execution_count": null,
   "metadata": {},
   "outputs": [],
   "source": []
  }
 ],
 "metadata": {
  "kernelspec": {
   "display_name": "Python 3",
   "language": "python",
   "name": "python3"
  },
  "language_info": {
   "codemirror_mode": {
    "name": "ipython",
    "version": 3
   },
   "file_extension": ".py",
   "mimetype": "text/x-python",
   "name": "python",
   "nbconvert_exporter": "python",
   "pygments_lexer": "ipython3",
   "version": "3.6.5"
  }
 },
 "nbformat": 4,
 "nbformat_minor": 2
}
